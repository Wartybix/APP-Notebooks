{
 "cells": [
  {
   "cell_type": "markdown",
   "id": "dec2e7aa-e6e6-4e1a-a629-0ec0fc0e9e7e",
   "metadata": {},
   "source": [
    "# 1: Designing a Bank Account"
   ]
  },
  {
   "cell_type": "code",
   "execution_count": 1,
   "id": "c0e9cd5d-7e07-435f-a6a3-c363719c9503",
   "metadata": {},
   "outputs": [
    {
     "name": "stdout",
     "output_type": "stream",
     "text": [
      "75\n"
     ]
    }
   ],
   "source": [
    "class BankAccount:\n",
    "    def __init__(self, initial_balance):\n",
    "        self.balance = initial_balance\n",
    "\n",
    "    def deposit(self, amount):\n",
    "        self.balance += amount\n",
    "\n",
    "    def withdraw(self, amount):\n",
    "        if amount > self.balance:\n",
    "            print(\"Insufficient funds...\")\n",
    "        else:\n",
    "            self.balance -= amount\n",
    "\n",
    "    def check_balance(self):\n",
    "        return self.balance\n",
    "\n",
    "my_bank = BankAccount(100)\n",
    "my_bank.deposit(50)\n",
    "my_bank.withdraw(75)\n",
    "print(my_bank.check_balance())\n",
    "\n",
    "    "
   ]
  },
  {
   "cell_type": "markdown",
   "id": "eb4be145-b55b-444c-a815-7dbfe9eb73ee",
   "metadata": {},
   "source": [
    "# 2: Building a Shape Hierarchy"
   ]
  },
  {
   "cell_type": "code",
   "execution_count": 3,
   "id": "4f8ba50e-304f-4b0d-b291-3c3b08a01e17",
   "metadata": {},
   "outputs": [
    {
     "name": "stdout",
     "output_type": "stream",
     "text": [
      "20\n"
     ]
    }
   ],
   "source": [
    "from abc import ABC, abstractmethod\n",
    "\n",
    "class Shape(ABC):\n",
    "    @abstractmethod\n",
    "    def calculate_area(self):\n",
    "        pass\n",
    "\n",
    "class Square(Shape):\n",
    "    def __init__(self, side_length):\n",
    "        self.side_length = side_length\n",
    "\n",
    "    def calculate_area(self):\n",
    "        return self.side_length * 4\n",
    "\n",
    "my_square = Square(5)\n",
    "print(my_square.calculate_area())"
   ]
  },
  {
   "cell_type": "markdown",
   "id": "978c99f9-904d-4f1e-8a11-b1c4c66bec48",
   "metadata": {},
   "source": [
    "# 3: Shopping Cart Design"
   ]
  },
  {
   "cell_type": "code",
   "execution_count": 14,
   "id": "9ed8a956-0e2e-49fc-8b6c-eb6e39a2d44c",
   "metadata": {},
   "outputs": [
    {
     "name": "stdout",
     "output_type": "stream",
     "text": [
      "Product wasn't in shopping cart.\n",
      "Product wasn't in shopping cart.\n",
      "Product wasn't in shopping cart.\n",
      "Product wasn't in shopping cart.\n",
      "Product wasn't in shopping cart.\n",
      "0\n"
     ]
    }
   ],
   "source": [
    "class Product:\n",
    "    def __init__(self, name, price):\n",
    "        self.name = name\n",
    "        self.price = price\n",
    "        self.quantity = 1\n",
    "\n",
    "    def get_price(self):\n",
    "        return price\n",
    "    \n",
    "    def increment_quantity(self):\n",
    "        self.quantity += 1\n",
    "    \n",
    "    def decrement_quantity(self):\n",
    "        self.quantity -= 1\n",
    "\n",
    "    def get_quantity(self):\n",
    "        return self.quantity\n",
    "\n",
    "class ShoppingCart:\n",
    "    def __init__(self):\n",
    "        self.items = list()\n",
    "    \n",
    "    def add_item(self, product, quantity = 1):\n",
    "        for i in range(quantity):\n",
    "            if product in self.items:\n",
    "                product.increment_quantity()\n",
    "            else:\n",
    "                self.items.append(product)\n",
    "\n",
    "    def remove_item(self, product, quantity = 1):\n",
    "        for i in range(quantity):\n",
    "            if product not in self.items:\n",
    "                print(\"Product wasn't in shopping cart.\")\n",
    "            elif product.quantity == 1:\n",
    "                self.items.remove(product)\n",
    "            else:\n",
    "                product.quantity -= 1\n",
    "\n",
    "    def get_total_cost(self):\n",
    "        total = 0\n",
    "        for item in self.items:\n",
    "            total += item.price * item.quantity\n",
    "        return total\n",
    "\n",
    "pigeon = Product(\"Beaky\", 10.00)\n",
    "crow = Product(\"Goth\", 9.00)\n",
    "\n",
    "my_cart = ShoppingCart()\n",
    "my_cart.add_item(pigeon, 4)\n",
    "my_cart.remove_item(pigeon, 2)\n",
    "my_cart.add_item(crow)\n",
    "my_cart.remove_item(pigeon)\n",
    "my_cart.remove_item(crow, 5)\n",
    "my_cart.remove_item(pigeon, 2)\n",
    "\n",
    "print(my_cart.get_total_cost())"
   ]
  },
  {
   "cell_type": "markdown",
   "id": "4470c4ce-dcb3-4b45-80b8-be3301920946",
   "metadata": {},
   "source": [
    "# Experimenting with Self Variables"
   ]
  },
  {
   "cell_type": "code",
   "execution_count": null,
   "id": "57cf43ed-5ca8-4e54-bad5-ff24bca38e35",
   "metadata": {},
   "outputs": [],
   "source": [
    "class MyClass():\n",
    "    a = 10\n",
    "\n",
    "    def __init__(self):\n",
    "        self.b = 15\n",
    "\n",
    "    def __set_a(self, new_a):\n",
    "        self.a = new_a\n",
    "\n",
    "    def set_b(self, new_b):\n",
    "        self.b = new_b\n",
    "\n",
    "    def print_ab(self):\n",
    "        print(f'{self.a} + {self.b}')\n",
    "\n",
    "my_class_1 = MyClass()\n",
    "my_class_1.__set_a(9)\n",
    "my_class_1.set_b(20)\n",
    "my_class_1.print_ab()\n",
    "\n",
    "my_class_2 = MyClass()\n",
    "my_class_2.print_ab()"
   ]
  },
  {
   "cell_type": "code",
   "execution_count": null,
   "id": "b02c0ed8-7b09-477e-9006-49fd139d8676",
   "metadata": {},
   "outputs": [],
   "source": []
  }
 ],
 "metadata": {
  "kernelspec": {
   "display_name": "Python 3 (ipykernel)",
   "language": "python",
   "name": "python3"
  },
  "language_info": {
   "codemirror_mode": {
    "name": "ipython",
    "version": 3
   },
   "file_extension": ".py",
   "mimetype": "text/x-python",
   "name": "python",
   "nbconvert_exporter": "python",
   "pygments_lexer": "ipython3",
   "version": "3.12.2"
  }
 },
 "nbformat": 4,
 "nbformat_minor": 5
}
