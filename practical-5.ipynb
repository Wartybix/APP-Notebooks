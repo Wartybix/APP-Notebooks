{
 "cells": [
  {
   "cell_type": "markdown",
   "id": "db103461-527e-4b0a-b538-0061b6138891",
   "metadata": {},
   "source": [
    "# 1: The handshake problem"
   ]
  },
  {
   "cell_type": "code",
   "execution_count": 4,
   "id": "47331511-408c-4e5f-aef5-7e50a3b5eb9f",
   "metadata": {},
   "outputs": [
    {
     "name": "stdout",
     "output_type": "stream",
     "text": [
      "2 shook with 1\n",
      "3 shook with 1\n",
      "3 shook with 2\n",
      "4 shook with 1\n",
      "4 shook with 2\n",
      "4 shook with 3\n",
      "5 shook with 1\n",
      "5 shook with 2\n",
      "5 shook with 3\n",
      "5 shook with 4\n",
      "6 shook with 1\n",
      "6 shook with 2\n",
      "6 shook with 3\n",
      "6 shook with 4\n",
      "6 shook with 5\n",
      "7 shook with 1\n",
      "7 shook with 2\n",
      "7 shook with 3\n",
      "7 shook with 4\n",
      "7 shook with 5\n",
      "7 shook with 6\n",
      "8 shook with 1\n",
      "8 shook with 2\n",
      "8 shook with 3\n",
      "8 shook with 4\n",
      "8 shook with 5\n",
      "8 shook with 6\n",
      "8 shook with 7\n",
      "9 shook with 1\n",
      "9 shook with 2\n",
      "9 shook with 3\n",
      "9 shook with 4\n",
      "9 shook with 5\n",
      "9 shook with 6\n",
      "9 shook with 7\n",
      "9 shook with 8\n",
      "10 shook with 1\n",
      "10 shook with 2\n",
      "10 shook with 3\n",
      "10 shook with 4\n",
      "10 shook with 5\n",
      "10 shook with 6\n",
      "10 shook with 7\n",
      "10 shook with 8\n",
      "10 shook with 9\n",
      "45\n"
     ]
    }
   ],
   "source": [
    "def handshake(n):\n",
    "    hands_shook = 0\n",
    "    guest_no = 1 #guest_no = i\n",
    "    while guest_no <= n and guest_no > 0:\n",
    "        hosts = guest_no - 1\n",
    "        host_no = 1\n",
    "        while host_no <= hosts:\n",
    "            print(f'{guest_no} shook with {host_no}') # Debugging\n",
    "            hands_shook += 1\n",
    "            host_no += 1\n",
    "        guest_no += 1\n",
    "    return hands_shook\n",
    "    \n",
    "print(handshake(10))"
   ]
  },
  {
   "cell_type": "markdown",
   "id": "7bf0171b-30e2-4aac-a0f6-1329306ae80a",
   "metadata": {},
   "source": [
    "# 2: Finding the Sum of Digits Recursively"
   ]
  },
  {
   "cell_type": "code",
   "execution_count": 8,
   "id": "93c0b29f-666f-42f4-bdea-16934283a1ca",
   "metadata": {},
   "outputs": [
    {
     "name": "stdout",
     "output_type": "stream",
     "text": [
      "The sum of digits in 1234 is: 10\n"
     ]
    }
   ],
   "source": [
    "def sum_of_digits(n):\n",
    "    \"\"\"\n",
    "    This function calculates the sum of digits in a non-negative integer n recursively.\n",
    "\n",
    "    Args:\n",
    "        n: The non-negative integer for which to calculate the sum of digits.\n",
    "\n",
    "    Returns:\n",
    "        The sum of digits in n.\n",
    "    \"\"\"\n",
    "\n",
    "    if n == 0:\n",
    "        return 0\n",
    "    last_digit = n % 10\n",
    "    remaining_digits = n // 10\n",
    "    return last_digit + sum_of_digits(remaining_digits)\n",
    "\n",
    "number = 1234\n",
    "result = sum_of_digits(number)\n",
    "\n",
    "print(f'The sum of digits in {number} is: {result}')"
   ]
  },
  {
   "cell_type": "markdown",
   "id": "60cf9dca-39cb-4317-b088-e843b858a744",
   "metadata": {},
   "source": [
    "# Experiment: Continuation Passing"
   ]
  },
  {
   "cell_type": "code",
   "execution_count": 4,
   "id": "352c302f-5e18-48ea-bd52-19428a8d905d",
   "metadata": {},
   "outputs": [
    {
     "data": {
      "text/plain": [
       "120"
      ]
     },
     "execution_count": 4,
     "metadata": {},
     "output_type": "execute_result"
    }
   ],
   "source": [
    "def fact_cps(n, k):\n",
    "    if n == 1:\n",
    "        return k(1)\n",
    "    else:\n",
    "        return fact_cps(n - 1, lambda v: k(v * n))\n",
    "\n",
    "fact_cps(5, lambda i: i)"
   ]
  },
  {
   "cell_type": "code",
   "execution_count": null,
   "id": "207419ff-366a-4d50-b366-1fdbc86e9d6b",
   "metadata": {},
   "outputs": [],
   "source": []
  }
 ],
 "metadata": {
  "kernelspec": {
   "display_name": "Python 3 (ipykernel)",
   "language": "python",
   "name": "python3"
  },
  "language_info": {
   "codemirror_mode": {
    "name": "ipython",
    "version": 3
   },
   "file_extension": ".py",
   "mimetype": "text/x-python",
   "name": "python",
   "nbconvert_exporter": "python",
   "pygments_lexer": "ipython3",
   "version": "3.12.2"
  }
 },
 "nbformat": 4,
 "nbformat_minor": 5
}
