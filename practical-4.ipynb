{
 "cells": [
  {
   "cell_type": "markdown",
   "id": "db103461-527e-4b0a-b538-0061b6138891",
   "metadata": {},
   "source": [
    "# 1: The handshake problem"
   ]
  },
  {
   "cell_type": "code",
   "execution_count": 4,
   "id": "47331511-408c-4e5f-aef5-7e50a3b5eb9f",
   "metadata": {},
   "outputs": [
    {
     "name": "stdout",
     "output_type": "stream",
     "text": [
      "2 shook with 1\n",
      "3 shook with 1\n",
      "3 shook with 2\n",
      "4 shook with 1\n",
      "4 shook with 2\n",
      "4 shook with 3\n",
      "5 shook with 1\n",
      "5 shook with 2\n",
      "5 shook with 3\n",
      "5 shook with 4\n",
      "6 shook with 1\n",
      "6 shook with 2\n",
      "6 shook with 3\n",
      "6 shook with 4\n",
      "6 shook with 5\n",
      "7 shook with 1\n",
      "7 shook with 2\n",
      "7 shook with 3\n",
      "7 shook with 4\n",
      "7 shook with 5\n",
      "7 shook with 6\n",
      "8 shook with 1\n",
      "8 shook with 2\n",
      "8 shook with 3\n",
      "8 shook with 4\n",
      "8 shook with 5\n",
      "8 shook with 6\n",
      "8 shook with 7\n",
      "9 shook with 1\n",
      "9 shook with 2\n",
      "9 shook with 3\n",
      "9 shook with 4\n",
      "9 shook with 5\n",
      "9 shook with 6\n",
      "9 shook with 7\n",
      "9 shook with 8\n",
      "10 shook with 1\n",
      "10 shook with 2\n",
      "10 shook with 3\n",
      "10 shook with 4\n",
      "10 shook with 5\n",
      "10 shook with 6\n",
      "10 shook with 7\n",
      "10 shook with 8\n",
      "10 shook with 9\n",
      "45\n"
     ]
    }
   ],
   "source": [
    "def handshake(n):\n",
    "    hands_shook = 0\n",
    "    guest_no = 1 #guest_no = i\n",
    "    while guest_no <= n and guest_no > 0:\n",
    "        hosts = guest_no - 1\n",
    "        host_no = 1\n",
    "        while host_no <= hosts:\n",
    "            print(f'{guest_no} shook with {host_no}') # Debugging\n",
    "            hands_shook += 1\n",
    "            host_no += 1\n",
    "        guest_no += 1\n",
    "    return hands_shook\n",
    "    \n",
    "print(handshake(10))"
   ]
  },
  {
   "cell_type": "code",
   "execution_count": null,
   "id": "c8b3867a-9936-4710-967a-22d60af7f991",
   "metadata": {},
   "outputs": [],
   "source": []
  }
 ],
 "metadata": {
  "kernelspec": {
   "display_name": "Python 3 (ipykernel)",
   "language": "python",
   "name": "python3"
  },
  "language_info": {
   "codemirror_mode": {
    "name": "ipython",
    "version": 3
   },
   "file_extension": ".py",
   "mimetype": "text/x-python",
   "name": "python",
   "nbconvert_exporter": "python",
   "pygments_lexer": "ipython3",
   "version": "3.12.2"
  }
 },
 "nbformat": 4,
 "nbformat_minor": 5
}
