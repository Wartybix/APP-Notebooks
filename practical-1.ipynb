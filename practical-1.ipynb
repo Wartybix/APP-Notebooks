{
 "cells": [
  {
   "cell_type": "markdown",
   "id": "f2032d17-1e52-4fc0-920f-b4adad616449",
   "metadata": {},
   "source": [
    "# Type 1: Basic variable manipulation"
   ]
  },
  {
   "cell_type": "code",
   "execution_count": 1,
   "id": "89b7a9bd-b849-4582-aa66-ad1e83625b34",
   "metadata": {},
   "outputs": [
    {
     "name": "stdout",
     "output_type": "stream",
     "text": [
      "25\n"
     ]
    }
   ],
   "source": [
    "x = 5\n",
    "print(x ** 2)"
   ]
  },
  {
   "cell_type": "code",
   "execution_count": null,
   "id": "f8bde5d9-efb8-4e40-b719-36cbc8081519",
   "metadata": {},
   "outputs": [],
   "source": [
    "length = int(input(\"Length: \"))\n",
    "width = int(input(\"Width: \"))\n",
    "print (length * width)"
   ]
  },
  {
   "cell_type": "code",
   "execution_count": null,
   "id": "f7281f7e-7116-4ed5-a968-8e7bf850bac7",
   "metadata": {},
   "outputs": [],
   "source": [
    "length = int(input(\"Length: \"))\n",
    "width = int(input(\"Width: \"))\n",
    "print(length * 2 + width * 2)"
   ]
  },
  {
   "cell_type": "markdown",
   "id": "f241854e-74ae-4e4e-9660-c0fb634a7f9e",
   "metadata": {},
   "source": [
    "# Type 2: Loops"
   ]
  },
  {
   "cell_type": "code",
   "execution_count": null,
   "id": "4a0cef99-6b07-4668-86a1-1ceca6fc69f0",
   "metadata": {},
   "outputs": [],
   "source": [
    "for i in range(5):\n",
    "    print(i + 1)"
   ]
  },
  {
   "cell_type": "code",
   "execution_count": null,
   "id": "3d56973f-64d0-4aac-ab0e-19b962090679",
   "metadata": {},
   "outputs": [],
   "source": [
    "for i in range(5):\n",
    "    print((i + 1) * 3)"
   ]
  },
  {
   "cell_type": "markdown",
   "id": "8b7f2d36-9938-4092-a304-f7bc6c2b9b5c",
   "metadata": {},
   "source": [
    "# Type 3: Conditional Statement"
   ]
  },
  {
   "cell_type": "code",
   "execution_count": null,
   "id": "f82276ba-cdcc-4c1a-aade-d80dcd4dced1",
   "metadata": {},
   "outputs": [],
   "source": [
    "number = int(input(\"Number: \"))\n",
    "\n",
    "if number % 2 == 0:\n",
    "    print(\"Even\")\n",
    "else:\n",
    "    print(\"Odd\")"
   ]
  },
  {
   "cell_type": "code",
   "execution_count": null,
   "id": "29bed0f3-ff81-4918-9453-6607a1783966",
   "metadata": {},
   "outputs": [],
   "source": [
    "number = int(input(\"Number: \"))\n",
    "\n",
    "if number < 0:\n",
    "    print(\"Negative\")\n",
    "elif number == 0:\n",
    "    print(\"Zero\")\n",
    "elif number > 0:\n",
    "    print(\"Positive\")"
   ]
  },
  {
   "cell_type": "markdown",
   "id": "43e821d8-9923-4e5f-904c-b90ad96b1614",
   "metadata": {},
   "source": [
    "# Type 4: List Manipulation"
   ]
  },
  {
   "cell_type": "code",
   "execution_count": null,
   "id": "adefb8e6-b3be-4ab5-b858-eee4133f9d71",
   "metadata": {},
   "outputs": [],
   "source": [
    "sum = 0\n",
    "for i in range(1, 11):\n",
    "    sum += i\n",
    "\n",
    "print(\"Sum: \" + sum)"
   ]
  },
  {
   "cell_type": "markdown",
   "id": "458893fd-334e-4f7b-8218-8b6163f5ef80",
   "metadata": {},
   "source": [
    "# Type 5: String Manipulation"
   ]
  },
  {
   "cell_type": "code",
   "execution_count": null,
   "id": "c5a95d79-193f-4e8c-8f38-d80bb7c70d49",
   "metadata": {},
   "outputs": [],
   "source": [
    "text = input()\n",
    "\n",
    "print(text.upper())"
   ]
  },
  {
   "cell_type": "code",
   "execution_count": null,
   "id": "958d4a73-577b-4642-8268-eb3a973a2b94",
   "metadata": {},
   "outputs": [],
   "source": [
    "text = input(\"Text: \")\n",
    "character = input(\"Character to check: \")\n",
    "counter = 0\n",
    "\n",
    "for i in range(len(text)):\n",
    "    if (character == text[i]):\n",
    "        counter += 1\n",
    "\n",
    "print(\"Occurances of \" + character + \": \" + str(counter))"
   ]
  },
  {
   "cell_type": "markdown",
   "id": "77c6cbf5-e229-44d8-ac60-6a568a8aa642",
   "metadata": {},
   "source": [
    "# Type 6: Nested Loops"
   ]
  },
  {
   "cell_type": "code",
   "execution_count": null,
   "id": "aca78af1-59af-449f-b1d8-83f3bda19e44",
   "metadata": {},
   "outputs": [],
   "source": [
    "for i in range(1, 6):\n",
    "    output = \"# \"\n",
    "    for num in range(1, i + 1):\n",
    "        output += str(num)\n",
    "    print(output)"
   ]
  },
  {
   "cell_type": "markdown",
   "id": "ae00f0f0-5650-4264-9301-f37ca467383d",
   "metadata": {},
   "source": [
    "# Type 7: File Handling"
   ]
  },
  {
   "cell_type": "code",
   "execution_count": null,
   "id": "b3d2a746-4daf-465c-a062-90bad0701056",
   "metadata": {},
   "outputs": [],
   "source": [
    "FILE_NAME = \"names.txt\"\n",
    "\n",
    "file = open(FILE_NAME, \"w\")\n",
    "file.write(\"Feral pigeon\\n\")\n",
    "file.write(\"Wood pigeon\\n\")\n",
    "file.write(\"Mourning dove\\n\")\n",
    "file.write(\"Stock dove\\n\")\n",
    "file.write(\"Turtle dove\\n\")\n",
    "file.close()\n",
    "\n",
    "names = list()\n",
    "with open(FILE_NAME) as file:\n",
    "    for line in file:\n",
    "        names.append(line.rstrip())\n",
    "\n",
    "print(names)"
   ]
  },
  {
   "cell_type": "markdown",
   "id": "f4d1a351-f205-4931-8e1f-9e7ac440de0c",
   "metadata": {},
   "source": [
    "# 8: Problem solving"
   ]
  },
  {
   "cell_type": "code",
   "execution_count": null,
   "id": "0692232f-cad8-48d0-a1ab-08aaff60c6ad",
   "metadata": {
    "editable": true,
    "slideshow": {
     "slide_type": ""
    },
    "tags": []
   },
   "outputs": [],
   "source": [
    "nums = [4, 1, 2, 9, 13, 15, 17, 20]\n",
    "\n",
    "print(\"Largest number: \" + str(max(nums)))\n",
    "\n",
    "primes = list()\n",
    "for number in nums:\n",
    "    isPrime = True\n",
    "    for potentialFactor in range(2, number):\n",
    "        if number % potentialFactor == 0:\n",
    "            isPrime = False\n",
    "            break\n",
    "    if isPrime:\n",
    "        primes.append(number)\n",
    "\n",
    "print(\"Maximum prime number: \" + str(max(primes)))\n",
    "\n",
    "sum = 0\n",
    "limit = int(input(\"Enter upper limit to check for primes: \"))\n",
    "for number in primes:\n",
    "    if (number < limit):\n",
    "        sum += number\n",
    "\n",
    "print(\"Sum of primes below \" + str(limit) + \": \" + str(sum))"
   ]
  }
 ],
 "metadata": {
  "kernelspec": {
   "display_name": "Python 3 (ipykernel)",
   "language": "python",
   "name": "python3"
  },
  "language_info": {
   "codemirror_mode": {
    "name": "ipython",
    "version": 3
   },
   "file_extension": ".py",
   "mimetype": "text/x-python",
   "name": "python",
   "nbconvert_exporter": "python",
   "pygments_lexer": "ipython3",
   "version": "3.12.1"
  }
 },
 "nbformat": 4,
 "nbformat_minor": 5
}
