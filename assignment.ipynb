{
 "cells": [
  {
   "cell_type": "markdown",
   "id": "fd873034-1baa-4084-9982-d915194af3d7",
   "metadata": {},
   "source": [
    "# User Class"
   ]
  },
  {
   "cell_type": "code",
   "execution_count": 32,
   "id": "d4f73cbe-0850-4870-8762-d3f068ee88eb",
   "metadata": {},
   "outputs": [
    {
     "name": "stdout",
     "output_type": "stream",
     "text": [
      "Bob (PigeonFeeder57)\n",
      "pigeon.feeder@email.com\n",
      "Changing username...\n",
      "Bob (RockDove63)\n",
      "Changing email to helloworldhelloworld...\n",
      "pigeon.feeder@email.com\n",
      "Changing email to ilikepigeons@email.com...\n",
      "ilikepigeons@email.com\n",
      "Lee (BirdUntangler71) -- Hobbyist\n",
      "pigeon.destringer@email.com\n",
      "Updating to vet...\n",
      "Lee (BirdUntangler71) -- Experienced Veterinarian\n"
     ]
    }
   ],
   "source": [
    "from enum import Enum\n",
    "import re\n",
    "\n",
    "class User:\n",
    "    def __init__(self, first_name, last_name, username, email_address):\n",
    "        self.first_name = first_name\n",
    "        self.last_name = last_name\n",
    "        self.username = username\n",
    "        self.email = None\n",
    "        self.set_email(email_address)\n",
    "\n",
    "    def set_username(self, username):\n",
    "        self.username = username\n",
    "\n",
    "    def set_name(self, first_name, last_name):\n",
    "        self.first_name = first_name\n",
    "        self.last_name = last_name\n",
    "\n",
    "    def set_email(self, email_address):\n",
    "        if re.match(\"[^@]+@[^@]+\\\\.[^@]+\", email_address):\n",
    "            self.email = email_address\n",
    "\n",
    "    def to_string(self):\n",
    "        return f\"{self.first_name} ({self.username})\"\n",
    "\n",
    "    def get_email(self):\n",
    "        return f\"{self.email}\"\n",
    "\n",
    "class Proficiency(Enum):\n",
    "    HOBBYIST = \"Hobbyist\"\n",
    "    VET = \"Experienced Veterinarian\"\n",
    "\n",
    "class DeStringer(User):\n",
    "    def __init__(self, first_name, last_name, username, email_address, proficiency):\n",
    "        super().__init__(first_name, last_name, username, email_address)\n",
    "        self.proficiency = proficiency\n",
    "\n",
    "    def set_proficiency(self, proficiency):\n",
    "        self.proficiency = proficiency\n",
    "\n",
    "    def get_proficiency(self):\n",
    "        return self.proficiency.value\n",
    "\n",
    "    def to_string(self):\n",
    "        return f\"{super().to_string()} -- {self.get_proficiency()}\"\n",
    "        \n",
    "\n",
    "user1 = User(\"Bob\", \"Pancakes\", \"PigeonFeeder57\", \"pigeon.feeder@email.com\")\n",
    "print(user1.to_string())\n",
    "print(user1.get_email())\n",
    "\n",
    "print(\"Changing username...\")\n",
    "user1.set_username(\"RockDove63\")\n",
    "print(user1.to_string())\n",
    "\n",
    "print(\"Changing email to helloworldhelloworld...\")\n",
    "user1.set_email(\"helloworldhelloworld\")\n",
    "print(user1.get_email())\n",
    "\n",
    "print(\"Changing email to ilikepigeons@email.com...\")\n",
    "user1.set_email(\"ilikepigeons@email.com\")\n",
    "print(user1.get_email())\n",
    "\n",
    "user2 = DeStringer(\"Lee\", \"Waffles\", \"BirdUntangler71\", \"pigeon.destringer@email.com\", Proficiency.HOBBYIST)\n",
    "print(user2.to_string())\n",
    "print(user2.get_email())\n",
    "print(\"Updating to vet...\")\n",
    "user2.set_proficiency(Proficiency.VET)\n",
    "print(user2.to_string())"
   ]
  },
  {
   "cell_type": "code",
   "execution_count": null,
   "id": "461f7063-0ded-42ac-8bc9-165905b7a142",
   "metadata": {},
   "outputs": [],
   "source": []
  },
  {
   "cell_type": "code",
   "execution_count": null,
   "id": "30040fc4-60b2-4faf-8430-027677ccd9c7",
   "metadata": {},
   "outputs": [],
   "source": []
  }
 ],
 "metadata": {
  "kernelspec": {
   "display_name": "Python 3 (ipykernel)",
   "language": "python",
   "name": "python3"
  },
  "language_info": {
   "codemirror_mode": {
    "name": "ipython",
    "version": 3
   },
   "file_extension": ".py",
   "mimetype": "text/x-python",
   "name": "python",
   "nbconvert_exporter": "python",
   "pygments_lexer": "ipython3",
   "version": "3.12.2"
  }
 },
 "nbformat": 4,
 "nbformat_minor": 5
}
