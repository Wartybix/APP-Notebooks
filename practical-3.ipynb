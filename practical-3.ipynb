{
 "cells": [
  {
   "cell_type": "markdown",
   "id": "5df85671-7cba-42fa-9695-17de9ddf6fcc",
   "metadata": {},
   "source": [
    "# Data Filtering and Transformation"
   ]
  },
  {
   "cell_type": "code",
   "execution_count": 8,
   "id": "77eaa2e4-cf42-438b-a3a6-eca3f7ae008b",
   "metadata": {},
   "outputs": [
    {
     "name": "stdout",
     "output_type": "stream",
     "text": [
      "Congratulations, Feral pigeon! You scored 85!\n",
      "Congratulations, Wood pigeon! You scored 85!\n"
     ]
    }
   ],
   "source": [
    "students = [\n",
    "    {\"name\": \"Feral pigeon\", \"score\": 85},\n",
    "    {\"name\": \"Wood pigeon\", \"score\": 85},\n",
    "    {\"name\": \"Magpie\", \"score\": 65},\n",
    "    {\"name\": \"Crow\", \"score\": 80},\n",
    "    {\"name\": \"Bluejay\", \"score\": 45}\n",
    "]\n",
    "\n",
    "def congratulate(recipient):\n",
    "    return f\"Congratulations, {recipient[\"name\"]}! You scored {recipient[\"score\"]}!\"\n",
    "\n",
    "def doesStudentPass(student):\n",
    "    return student[\"score\"] > 80\n",
    "\n",
    "for msg in map(congratulate, filter(doesStudentPass, students)): print(msg)"
   ]
  },
  {
   "cell_type": "code",
   "execution_count": null,
   "id": "5d423fc5-11ba-4df7-a00b-ba5348211f5f",
   "metadata": {},
   "outputs": [],
   "source": []
  },
  {
   "cell_type": "code",
   "execution_count": null,
   "id": "3a36df75-6750-455b-b3c0-f3cd39f551cd",
   "metadata": {},
   "outputs": [],
   "source": []
  },
  {
   "cell_type": "code",
   "execution_count": null,
   "id": "4f6b7a42-c7f9-419a-8dbe-98d32c151d4c",
   "metadata": {},
   "outputs": [],
   "source": []
  },
  {
   "cell_type": "code",
   "execution_count": null,
   "id": "3e00bdb9-e420-4fc5-bcff-aa740ba55b92",
   "metadata": {},
   "outputs": [],
   "source": []
  }
 ],
 "metadata": {
  "kernelspec": {
   "display_name": "Python 3 (ipykernel)",
   "language": "python",
   "name": "python3"
  },
  "language_info": {
   "codemirror_mode": {
    "name": "ipython",
    "version": 3
   },
   "file_extension": ".py",
   "mimetype": "text/x-python",
   "name": "python",
   "nbconvert_exporter": "python",
   "pygments_lexer": "ipython3",
   "version": "3.12.1"
  }
 },
 "nbformat": 4,
 "nbformat_minor": 5
}
