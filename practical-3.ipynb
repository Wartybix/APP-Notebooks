{
 "cells": [
  {
   "cell_type": "markdown",
   "id": "5df85671-7cba-42fa-9695-17de9ddf6fcc",
   "metadata": {},
   "source": [
    "# Data Filtering and Transformation"
   ]
  },
  {
   "cell_type": "code",
   "execution_count": 1,
   "id": "77eaa2e4-cf42-438b-a3a6-eca3f7ae008b",
   "metadata": {},
   "outputs": [
    {
     "name": "stdout",
     "output_type": "stream",
     "text": [
      "Congratulations, Feral pigeon! You scored 85!\n",
      "Congratulations, Wood pigeon! You scored 85!\n"
     ]
    }
   ],
   "source": [
    "students = [\n",
    "    {\"name\": \"Feral pigeon\", \"score\": 85},\n",
    "    {\"name\": \"Wood pigeon\", \"score\": 85},\n",
    "    {\"name\": \"Magpie\", \"score\": 65},\n",
    "    {\"name\": \"Crow\", \"score\": 80},\n",
    "    {\"name\": \"Bluejay\", \"score\": 45}\n",
    "]\n",
    "\n",
    "def congratulate(recipient):\n",
    "    return f\"Congratulations, {recipient[\"name\"]}! You scored {recipient[\"score\"]}!\"\n",
    "\n",
    "def doesStudentPass(student):\n",
    "    return student[\"score\"] > 80\n",
    "\n",
    "for msg in map(congratulate, filter(doesStudentPass, students)): print(msg)"
   ]
  },
  {
   "cell_type": "markdown",
   "id": "245f7d96-606a-4eba-a48f-f743236529e9",
   "metadata": {},
   "source": [
    "# Text Processing Pipeline"
   ]
  },
  {
   "cell_type": "code",
   "execution_count": 2,
   "id": "3a36df75-6750-455b-b3c0-f3cd39f551cd",
   "metadata": {},
   "outputs": [
    {
     "ename": "IndentationError",
     "evalue": "expected an indented block after function definition on line 11 (489069970.py, line 14)",
     "output_type": "error",
     "traceback": [
      "\u001b[0;36m  Cell \u001b[0;32mIn[2], line 14\u001b[0;36m\u001b[0m\n\u001b[0;31m    print(processText(string))\u001b[0m\n\u001b[0m    ^\u001b[0m\n\u001b[0;31mIndentationError\u001b[0m\u001b[0;31m:\u001b[0m expected an indented block after function definition on line 11\n"
     ]
    }
   ],
   "source": [
    "string = \"Hello. I like pigeons. Wood pigeons and feral pigeons are both nice.\"\n",
    "\n",
    "def processText(text):\n",
    "    output = text.lower()\n",
    "    punctuation = \",./;'#[]-=<>?:@~{}_+!\\\"£$%^&*()\\\\\"\n",
    "    for punct in punctuation:\n",
    "        output = output.replace(punct, \"\")\n",
    "    output = output.split()\n",
    "    return output\n",
    "\n",
    "def calculateWordFrequency(text, textProcessor):\n",
    "    wordDict = dict()\n",
    "\n",
    "def wordCounter(text, textProcessor):\n",
    "    words = textProcessor(text)\n",
    "    ignoreWord = lambda word: word in [\"the\", \"a\", \"is\"]\n",
    "    wordsToAdd = filter(ignoreWord, words)\n",
    "    wordDict = dict()\n",
    "    addToDict = lambda word: wordDict[word]++ if word in wordDict else wordDict[word] = 1\n",
    "    for word in wordsToAdd: addToDict(word)\n",
    "    print(\"Frequencies of each word:\")\n",
    "    for word in wordDict: print(f\"{word.key()}: {word.value()}\")\n",
    "\n",
    "print(processText(string))"
   ]
  },
  {
   "cell_type": "code",
   "execution_count": null,
   "id": "4f6b7a42-c7f9-419a-8dbe-98d32c151d4c",
   "metadata": {},
   "outputs": [],
   "source": []
  },
  {
   "cell_type": "code",
   "execution_count": null,
   "id": "3e00bdb9-e420-4fc5-bcff-aa740ba55b92",
   "metadata": {},
   "outputs": [],
   "source": []
  }
 ],
 "metadata": {
  "kernelspec": {
   "display_name": "Python 3 (ipykernel)",
   "language": "python",
   "name": "python3"
  },
  "language_info": {
   "codemirror_mode": {
    "name": "ipython",
    "version": 3
   },
   "file_extension": ".py",
   "mimetype": "text/x-python",
   "name": "python",
   "nbconvert_exporter": "python",
   "pygments_lexer": "ipython3",
   "version": "3.12.1"
  }
 },
 "nbformat": 4,
 "nbformat_minor": 5
}
