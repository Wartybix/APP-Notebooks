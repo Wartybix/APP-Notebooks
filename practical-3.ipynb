{
 "cells": [
  {
   "cell_type": "markdown",
   "id": "5df85671-7cba-42fa-9695-17de9ddf6fcc",
   "metadata": {},
   "source": [
    "# Data Filtering and Transformation"
   ]
  },
  {
   "cell_type": "code",
   "execution_count": 1,
   "id": "77eaa2e4-cf42-438b-a3a6-eca3f7ae008b",
   "metadata": {},
   "outputs": [
    {
     "name": "stdout",
     "output_type": "stream",
     "text": [
      "Congratulations, Feral pigeon! You scored 85!\n",
      "Congratulations, Wood pigeon! You scored 85!\n"
     ]
    }
   ],
   "source": [
    "students = [\n",
    "    {\"name\": \"Feral pigeon\", \"score\": 85},\n",
    "    {\"name\": \"Wood pigeon\", \"score\": 85},\n",
    "    {\"name\": \"Magpie\", \"score\": 65},\n",
    "    {\"name\": \"Crow\", \"score\": 80},\n",
    "    {\"name\": \"Bluejay\", \"score\": 45}\n",
    "]\n",
    "\n",
    "def congratulate(recipient):\n",
    "    return f\"Congratulations, {recipient[\"name\"]}! You scored {recipient[\"score\"]}!\"\n",
    "\n",
    "def doesStudentPass(student):\n",
    "    return student[\"score\"] > 80\n",
    "\n",
    "for msg in map(congratulate, filter(doesStudentPass, students)): print(msg)"
   ]
  },
  {
   "cell_type": "markdown",
   "id": "245f7d96-606a-4eba-a48f-f743236529e9",
   "metadata": {},
   "source": [
    "# Text Processing Pipeline"
   ]
  },
  {
   "cell_type": "code",
   "execution_count": 22,
   "id": "3a36df75-6750-455b-b3c0-f3cd39f551cd",
   "metadata": {},
   "outputs": [
    {
     "name": "stdout",
     "output_type": "stream",
     "text": [
      "['hello', 'i', 'like', 'pigeons', 'the', 'wood', 'pigeons', 'and', 'feral', 'pigeons', 'are', 'both', 'nice']\n",
      "Words to add: <filter object at 0x7f5ed7d9e560>\n",
      "Frequencies of each word:\n",
      "hello: 1\n",
      "i: 1\n",
      "like: 1\n",
      "pigeons: 3\n",
      "wood: 1\n",
      "and: 1\n",
      "feral: 1\n",
      "are: 1\n",
      "both: 1\n",
      "nice: 1\n",
      "None\n"
     ]
    }
   ],
   "source": [
    "string = \"Hello. I like pigeons. The wood pigeons and feral pigeons are both nice.\"\n",
    "\n",
    "def processText(text):\n",
    "    output = text.lower()\n",
    "    punctuation = \",./;'#[]-=<>?:@~{}_+!\\\"£$%^&*()\\\\\"\n",
    "    for punct in punctuation:\n",
    "        output = output.replace(punct, \"\")\n",
    "    output = output.split()\n",
    "    return output\n",
    "\n",
    "def wordCounter(text, textProcessor):\n",
    "    words = textProcessor(text)\n",
    "    includeWord = lambda word: word not in [\"the\", \"a\", \"is\"]\n",
    "    wordsToAdd = filter(includeWord, words)\n",
    "    wordDict = dict()\n",
    "    def addToDict(word):\n",
    "        if word in wordDict:\n",
    "            wordDict[word] += 1\n",
    "        else:\n",
    "            wordDict[word] = 1\n",
    "    for word in wordsToAdd: addToDict(word)\n",
    "    print(\"Frequencies of each word:\")\n",
    "    for word in wordDict: print(f\"{word}: {wordDict[word]}\")\n",
    "\n",
    "print(processText(string))\n",
    "print(wordCounter(string, processText))"
   ]
  },
  {
   "cell_type": "code",
   "execution_count": null,
   "id": "04b4b644-300b-4ab2-b43b-3ef5d9871fa4",
   "metadata": {},
   "outputs": [],
   "source": []
  },
  {
   "cell_type": "code",
   "execution_count": null,
   "id": "f8a05a3a-5737-4a66-8465-3e0d84a5bd77",
   "metadata": {},
   "outputs": [],
   "source": []
  },
  {
   "cell_type": "code",
   "execution_count": null,
   "id": "4f6b7a42-c7f9-419a-8dbe-98d32c151d4c",
   "metadata": {},
   "outputs": [],
   "source": []
  },
  {
   "cell_type": "code",
   "execution_count": null,
   "id": "3e00bdb9-e420-4fc5-bcff-aa740ba55b92",
   "metadata": {},
   "outputs": [],
   "source": []
  }
 ],
 "metadata": {
  "kernelspec": {
   "display_name": "Python 3 (ipykernel)",
   "language": "python",
   "name": "python3"
  },
  "language_info": {
   "codemirror_mode": {
    "name": "ipython",
    "version": 3
   },
   "file_extension": ".py",
   "mimetype": "text/x-python",
   "name": "python",
   "nbconvert_exporter": "python",
   "pygments_lexer": "ipython3",
   "version": "3.12.1"
  }
 },
 "nbformat": 4,
 "nbformat_minor": 5
}
