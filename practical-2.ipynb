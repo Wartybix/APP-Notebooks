{
 "cells": [
  {
   "cell_type": "markdown",
   "id": "ca50565a-befb-4bf0-8b9a-b6ed0d41a2ee",
   "metadata": {},
   "source": [
    "# 1: Area & Perimeter Calculator"
   ]
  },
  {
   "cell_type": "code",
   "execution_count": 20,
   "id": "5dd98e76-20e1-4387-9b02-9b91ea73c79a",
   "metadata": {},
   "outputs": [
    {
     "name": "stdin",
     "output_type": "stream",
     "text": [
      "Length:  50\n",
      "Width:  2\n"
     ]
    },
    {
     "name": "stdout",
     "output_type": "stream",
     "text": [
      "Area: 100\n",
      "Perimeter: 104\n"
     ]
    }
   ],
   "source": [
    "def get_rectangle_area(length, width):\n",
    "    return length * width\n",
    "\n",
    "def get_rectangle_perimeter(length, width):\n",
    "    return 2 * length + 2 * width\n",
    "\n",
    "def dimension_input(message):\n",
    "    dimension = int(input(message))\n",
    "    if dimension < 0:\n",
    "        print(\"Negative dimension detected; setting to 0.\")\n",
    "        dimension = 0\n",
    "    return dimension\n",
    "\n",
    "def main():\n",
    "    length = dimension_input(\"Length: \")\n",
    "    width = dimension_input(\"Width: \")\n",
    "\n",
    "    area = get_rectangle_area(length, width)\n",
    "    perimeter = get_rectangle_perimeter(length, width)\n",
    "\n",
    "    print(\"Area:\", area)\n",
    "    print(\"Perimeter:\", perimeter)\n",
    "\n",
    "main()"
   ]
  },
  {
   "cell_type": "markdown",
   "id": "9e99cec2-c214-425b-b3b2-c4760d4559eb",
   "metadata": {},
   "source": [
    "# 2: Guessing Game with Limits"
   ]
  },
  {
   "cell_type": "code",
   "execution_count": 2,
   "id": "c7c8778b-7c0e-4b66-a7b6-98d1ccedf847",
   "metadata": {},
   "outputs": [
    {
     "name": "stdout",
     "output_type": "stream",
     "text": [
      "[i] 10 attempts left.\n"
     ]
    },
    {
     "name": "stdin",
     "output_type": "stream",
     "text": [
      "Enter guess:  9\n"
     ]
    },
    {
     "name": "stdout",
     "output_type": "stream",
     "text": [
      "Guess higher.\n",
      "[i] 9 attempts left.\n"
     ]
    },
    {
     "name": "stdin",
     "output_type": "stream",
     "text": [
      "Enter guess:  50\n"
     ]
    },
    {
     "name": "stdout",
     "output_type": "stream",
     "text": [
      "Guess higher.\n",
      "[i] 8 attempts left.\n"
     ]
    },
    {
     "name": "stdin",
     "output_type": "stream",
     "text": [
      "Enter guess:  75\n"
     ]
    },
    {
     "name": "stdout",
     "output_type": "stream",
     "text": [
      "Guess higher.\n",
      "[i] 7 attempts left.\n"
     ]
    },
    {
     "name": "stdin",
     "output_type": "stream",
     "text": [
      "Enter guess:  90\n"
     ]
    },
    {
     "name": "stdout",
     "output_type": "stream",
     "text": [
      "Guess lower.\n",
      "[i] 6 attempts left.\n"
     ]
    },
    {
     "name": "stdin",
     "output_type": "stream",
     "text": [
      "Enter guess:  80\n"
     ]
    },
    {
     "name": "stdout",
     "output_type": "stream",
     "text": [
      "Guess higher.\n",
      "[i] 5 attempts left.\n"
     ]
    },
    {
     "name": "stdin",
     "output_type": "stream",
     "text": [
      "Enter guess:  85\n"
     ]
    },
    {
     "name": "stdout",
     "output_type": "stream",
     "text": [
      "Guess higher.\n",
      "[i] 4 attempts left.\n"
     ]
    },
    {
     "name": "stdin",
     "output_type": "stream",
     "text": [
      "Enter guess:  88\n"
     ]
    },
    {
     "name": "stdout",
     "output_type": "stream",
     "text": [
      "Guess lower.\n",
      "[i] 3 attempts left.\n"
     ]
    },
    {
     "name": "stdin",
     "output_type": "stream",
     "text": [
      "Enter guess:  87\n"
     ]
    },
    {
     "name": "stdout",
     "output_type": "stream",
     "text": [
      "Well done, you guessed correctly.\n"
     ]
    }
   ],
   "source": [
    "import random\n",
    "\n",
    "def generate_number():\n",
    "    return random.randint(1, 100)\n",
    "\n",
    "def make_guess():\n",
    "    valid_guess = False\n",
    "    while (not valid_guess):\n",
    "        guess = int(input(\"Enter guess: \"))\n",
    "        if guess >= 1 and guess <= 100:\n",
    "            valid_guess = True\n",
    "        else:\n",
    "            print(\"Invalid guess, enter again.\")\n",
    "    return guess\n",
    "\n",
    "def is_guess_correct(guess, correct_value):\n",
    "    return guess == correct_value\n",
    "\n",
    "def give_hint(guess, correct_value):\n",
    "    if guess < correct_value:\n",
    "        print(\"Guess higher.\")\n",
    "    elif guess > correct_value:\n",
    "        print(\"Guess lower.\")\n",
    "\n",
    "def main():\n",
    "    correct_value = generate_number()\n",
    "    guess = -1\n",
    "    attempts = 10\n",
    "    game_over = False\n",
    "    while (not game_over):\n",
    "        print(\"[i]\", attempts, \"attempts left.\")\n",
    "        guess = make_guess()\n",
    "        if (is_guess_correct(guess, correct_value)):\n",
    "            print(\"Well done, you guessed correctly.\")\n",
    "            game_over = True\n",
    "        else:\n",
    "            if (attempts == 1):\n",
    "                print(f\"You ran out of attempts. The correct answer was {correct_value}.\")\n",
    "                game_over = True\n",
    "            else:\n",
    "                give_hint(guess, correct_value)\n",
    "                attempts -= 1\n",
    "\n",
    "main()"
   ]
  },
  {
   "cell_type": "markdown",
   "id": "349dccef-014a-4014-85e4-317647c8ce4a",
   "metadata": {},
   "source": [
    "# 3: Text Analysis"
   ]
  },
  {
   "cell_type": "code",
   "execution_count": 22,
   "id": "8ed2987c-c0b9-46d3-952e-a77ab6442137",
   "metadata": {},
   "outputs": [
    {
     "name": "stdin",
     "output_type": "stream",
     "text": [
      "Enter something:  hello pigeons i like pigeons. Nice world.\n"
     ]
    },
    {
     "name": "stdout",
     "output_type": "stream",
     "text": [
      "Characters: 41\n",
      "Words: 7\n",
      "Sentences: 2\n",
      "Average word length: 4.714285714285714\n",
      "Most frequent word: pigeons\n",
      "Unique words: ['hello', 'i', 'like', 'Nice', 'world']\n"
     ]
    }
   ],
   "source": [
    "def count_characters(given_string):\n",
    "    return len(given_string)\n",
    "\n",
    "def count_words(given_string):\n",
    "    words = given_string.split()\n",
    "    return len(words)\n",
    "\n",
    "def remove_punctuation(given_string):\n",
    "    output = str(given_string)\n",
    "    punctuation_marks = ['.', '...', '?', '!']\n",
    "    for punctuation in punctuation_marks:\n",
    "        output = output.replace(punctuation, \" \")\n",
    "    return output\n",
    "\n",
    "def count_sentences(given_string):\n",
    "    sentences = given_string.replace(' ', '-')\n",
    "    sentences = remove_punctuation(sentences)\n",
    "    sentences = sentences.split()\n",
    "    return len(sentences)\n",
    "\n",
    "def get_avg_word_length(given_string):\n",
    "    words = given_string.split()\n",
    "    total_word_characters = 0\n",
    "    for word in words:\n",
    "        total_word_characters += len(word)\n",
    "    total_word_characters -= count_sentences(given_string) # Removes punctuation marks from count.\n",
    "        \n",
    "    return total_word_characters / count_words(given_string)\n",
    "\n",
    "def get_words(given_string):\n",
    "    words = remove_punctuation(given_string)\n",
    "    words = words.split()\n",
    "    return words\n",
    "\n",
    "def get_word_frequencies(given_string):\n",
    "    words = get_words(given_string)\n",
    "    word_dict = dict()\n",
    "    for word in words:\n",
    "        if word in word_dict:\n",
    "            word_dict[word] += 1\n",
    "        else:\n",
    "            word_dict[word] = 1\n",
    "    return word_dict\n",
    "\n",
    "def get_most_frequent_word(given_string):\n",
    "    word_dict = get_word_frequencies(given_string)\n",
    "    most_frequent = max(zip(word_dict.values(), word_dict.keys()))[1]\n",
    "    return most_frequent\n",
    "\n",
    "def get_unique_words(given_string):\n",
    "    unique_words = []\n",
    "    word_dict = get_word_frequencies(given_string)\n",
    "    for word in word_dict:\n",
    "        if word_dict[word] == 1:\n",
    "            unique_words.append(word)\n",
    "    return unique_words\n",
    "    \n",
    "\n",
    "def main():\n",
    "    text = input(\"Enter something: \")\n",
    "    characters = count_characters(text)\n",
    "    words = count_words(text)\n",
    "    sentences = count_sentences(text)\n",
    "    avg_word_length = get_avg_word_length(text)\n",
    "    most_frequent_word = get_most_frequent_word(text)\n",
    "    unique_words = get_unique_words(text)\n",
    "    print(\"Characters:\", characters)\n",
    "    print(\"Words:\", words)\n",
    "    print(\"Sentences:\", sentences)\n",
    "    print(\"Average word length:\", avg_word_length)\n",
    "    print(\"Most frequent word:\", most_frequent_word)\n",
    "    print(\"Unique words:\", unique_words)\n",
    "\n",
    "main()"
   ]
  },
  {
   "cell_type": "markdown",
   "id": "ab144054-4ff4-4796-96cc-301bede2d461",
   "metadata": {},
   "source": [
    "# 5: Maths stuff"
   ]
  },
  {
   "cell_type": "code",
   "execution_count": 19,
   "id": "c34bcbba-20e5-460d-9438-2758d6cab5ea",
   "metadata": {},
   "outputs": [
    {
     "name": "stdin",
     "output_type": "stream",
     "text": [
      "Enter coefficients (a, b, c):  5 10 2\n"
     ]
    },
    {
     "name": "stdout",
     "output_type": "stream",
     "text": [
      "Your discriminant is: 60.\n",
      "Your roots are: -0.2254033307585166 and -1.7745966692414832\n"
     ]
    }
   ],
   "source": [
    "import math\n",
    "\n",
    "def calculate_discriminant(a, b, c):\n",
    "    return b ** 2 - (4 * a * c)\n",
    "\n",
    "def pos_neg_or_zero(discriminant):\n",
    "    if discriminant > 0:\n",
    "        return \"Positive\"\n",
    "    elif discriminant == 0:\n",
    "        return \"Zero\"\n",
    "    elif discriminant < 0:\n",
    "        return \"Negative\"\n",
    "\n",
    "def calculate_roots(a, b, c):\n",
    "    discriminant = calculate_discriminant(a, b, c)\n",
    "    if pos_neg_or_zero(discriminant) == \"Positive\":\n",
    "        x1 = (-b + math.sqrt(discriminant)) / (2 * a)\n",
    "        x2 = (-b - math.sqrt(discriminant)) / (2 * a)\n",
    "    elif pos_neg_or_zero(discriminant) == \"Negative\":\n",
    "        print(\"Cant remember all this complex numbers stuff...\")\n",
    "        x1 = x2 = 0\n",
    "    elif pos_neg_or_zero(discriminant) == \"Zero\":\n",
    "        x1 = x2 = -b / (2 * a)\n",
    "    return [x1, x2]\n",
    "\n",
    "def main():\n",
    "    coefficients_input = input(\"Enter coefficients (a, b, c): \")\n",
    "    a, b, c = [int(coefficient) for coefficient in coefficients_input.replace(\",\", \" \").split()]\n",
    "    discriminant = calculate_discriminant(a, b, c)\n",
    "    x1, x2 = calculate_roots(a, b, c)\n",
    "    print(f\"Your discriminant is: {discriminant}.\")\n",
    "    print(f\"Your roots are: {x1} and {x2}\")\n",
    "\n",
    "main()"
   ]
  },
  {
   "cell_type": "code",
   "execution_count": null,
   "id": "39b50786-b20a-4887-a2ac-faf2c1cb31da",
   "metadata": {},
   "outputs": [],
   "source": []
  }
 ],
 "metadata": {
  "kernelspec": {
   "display_name": "Python 3 (ipykernel)",
   "language": "python",
   "name": "python3"
  },
  "language_info": {
   "codemirror_mode": {
    "name": "ipython",
    "version": 3
   },
   "file_extension": ".py",
   "mimetype": "text/x-python",
   "name": "python",
   "nbconvert_exporter": "python",
   "pygments_lexer": "ipython3",
   "version": "3.12.1"
  }
 },
 "nbformat": 4,
 "nbformat_minor": 5
}
